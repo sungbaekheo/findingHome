{
 "cells": [
  {
   "cell_type": "code",
   "execution_count": 1,
   "id": "df5b9171",
   "metadata": {},
   "outputs": [
    {
     "ename": "SyntaxError",
     "evalue": "invalid syntax (2635872543.py, line 1)",
     "output_type": "error",
     "traceback": [
      "\u001b[1;36m  Input \u001b[1;32mIn [1]\u001b[1;36m\u001b[0m\n\u001b[1;33m    lyrics = [La La La La La -\u001b[0m\n\u001b[1;37m                 ^\u001b[0m\n\u001b[1;31mSyntaxError\u001b[0m\u001b[1;31m:\u001b[0m invalid syntax\n"
     ]
    }
   ],
   "source": [
    "lyrics = [La La La La La -\n",
    "Oh 햇살 눈부신 한가론 휴일\n",
    "예쁜 새하얀 원피스를 입고 Oh Oh\n",
    "난 집을 나섰지 콧노래 나오지\n",
    "La La La La La -\n",
    "넌 나를 바라봐 넋을 놓고 또 봐\n",
    "네 맘을 사로잡아 버린 그 순간 Oh\n",
    "떨리는 목소리 네 맘엔 북소리\n",
    "또 반짝이는 종소리가 울리지\n",
    "La La La La La -\n",
    "주세요 달콤한 그 맛 Ice Cream Cake\n",
    "특별해질 오늘에 어울리는 맛으로\n",
    "입가에 묻은 Ice Cream에\n",
    "네 가슴 두근거려 내게 다가 오겠죠\n",
    "It's so tasty Come and chase me 못 참겠어\n",
    "I scream You scream Gimme that Gimme that Ice Cream\n",
    "Oh Vanilla chocolate honey with a cherry on top\n",
    "매일 다양하게 보여줄게 너에게만\n",
    "무지갤 그려대는 저 분수대 보다\n",
    "난 사랑을 그려내는 네게 좀 더 끌릴 거야\n",
    "넌 나를 데리고 떠나 어서 떠나\n",
    "조그만 스쿠터에 태워봐 Oh 날\n",
    "Uh 네 허릴 감싸는 내 손에\n",
    "오늘이 다 가도 맘이 두근두근 거리지\n",
    "La La La La La -\n",
    "주세요 달콤한 그 맛 Ice Cream Cake\n",
    "특별해질 오늘에 어울리는 맛으로\n",
    "입가에 묻은 Ice Cream에\n",
    "네 가슴 두근거려 내게 다가 오겠죠\n",
    "It's so tasty Come and chase me 못 참겠어\n",
    "I scream You scream Gimme that Gimme that Ice Cream X2\n",
    "I scream You scream Gimme that Gimme that\n",
    "Rap Pops 내 입안에 녹아 내리는 중\n",
    "잔뜩 넣어 내 입안이 녹아 내리는 줄\n",
    "Baby Boy 다른 남자들은 아무것도 몰라\n",
    "You're so fine해서 안 튀는 옷만 골라\n",
    "Never get me wrong my boo I have no\n",
    "관심 In that bag\n",
    "지루한 월화부터 수목까지\n",
    "Man I wanna pass\n",
    "날 보는 네 시선에 See some good vibe\n",
    "기분 좋은 느낌이야 너와 눈이 마주치는 순간\n",
    "Gimme that X6 Ice Cream\n",
    "어서요 부드런 그 맛 Ice Cream Cake\n",
    "오직 널 기다리며 촛불을 켜둘게요\n",
    "따스한 맘에 Ice Cream Cake\n",
    "녹아버리기 전에 내게 입맞춰줘요\n",
    "It's so tasty Come and chase me\n",
    "네 입술이 달콤하게 녹아요 나는 눈을 감아요\n",
    "달콤한 그 맛 Ice Cream Cake\n",
    "특별해질 오늘에 어울리는 맛으로\n",
    "입가에 묻은 Ice Cream에\n",
    "네 가슴 두근거려 내게 다가 오겠죠\n",
    "It's so tasty Come and chase me\n",
    "못 참겠어\n",
    "I scream You scream Gimme that Gimme that Ice Cream X2\n",
    "I scream You scream Gimme that Gimme that your lips]"
   ]
  },
  {
   "cell_type": "code",
   "execution_count": null,
   "id": "af06b163",
   "metadata": {},
   "outputs": [],
   "source": []
  }
 ],
 "metadata": {
  "kernelspec": {
   "display_name": "Python 3 (ipykernel)",
   "language": "python",
   "name": "python3"
  },
  "language_info": {
   "codemirror_mode": {
    "name": "ipython",
    "version": 3
   },
   "file_extension": ".py",
   "mimetype": "text/x-python",
   "name": "python",
   "nbconvert_exporter": "python",
   "pygments_lexer": "ipython3",
   "version": "3.9.13"
  }
 },
 "nbformat": 4,
 "nbformat_minor": 5
}
